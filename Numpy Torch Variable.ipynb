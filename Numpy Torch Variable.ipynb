{
 "cells": [
  {
   "cell_type": "markdown",
   "metadata": {},
   "source": [
    "# Torch vs. Numpy"
   ]
  },
  {
   "cell_type": "code",
   "execution_count": 2,
   "metadata": {},
   "outputs": [],
   "source": [
    "import torch\n",
    "import numpy as np"
   ]
  },
  {
   "cell_type": "markdown",
   "metadata": {},
   "source": [
    "## Bridge between torch and numpy"
   ]
  },
  {
   "cell_type": "code",
   "execution_count": 8,
   "metadata": {},
   "outputs": [],
   "source": [
    "np_data = np.arange(6).reshape((2, 3))\n",
    "torch_data = torch.from_numpy(np_data)\n",
    "tensor2array = torch_data.numpy()"
   ]
  },
  {
   "cell_type": "code",
   "execution_count": 38,
   "metadata": {},
   "outputs": [
    {
     "name": "stdout",
     "output_type": "stream",
     "text": [
      "\n",
      "--- numpy array ---\n",
      " [[0 1 2]\n",
      " [3 4 5]] \n",
      "--- torch tensor ---\n",
      " tensor([[0, 1, 2],\n",
      "        [3, 4, 5]]) \n",
      "--- tensor to array ---\n",
      " [[0 1 2]\n",
      " [3 4 5]]\n"
     ]
    }
   ],
   "source": [
    "print(\n",
    "    '\\n--- numpy array ---\\n', np_data,          \n",
    "    '\\n--- torch tensor ---\\n', torch_data,     \n",
    "    '\\n--- tensor to array ---\\n', tensor2array, \n",
    ")"
   ]
  },
  {
   "cell_type": "markdown",
   "metadata": {},
   "source": [
    "## Operations"
   ]
  },
  {
   "cell_type": "code",
   "execution_count": 44,
   "metadata": {},
   "outputs": [
    {
     "name": "stdout",
     "output_type": "stream",
     "text": [
      "\n",
      "--- matrix multiplication (@) --- \n",
      " numpy \n",
      " [[ 7 10]\n",
      " [15 22]] \n",
      " torch \n",
      " tensor([[ 7., 10.],\n",
      "        [15., 22.]])\n",
      "\n",
      "--- matrix  multiplication (*) --- \n",
      " numpy \n",
      " [[ 1  4]\n",
      " [ 9 16]] \n",
      " torch \n",
      " tensor([[ 1.,  4.],\n",
      "        [ 9., 16.]])\n"
     ]
    }
   ],
   "source": [
    "# matrix multiplication \n",
    "data = [[1,2], [3,4]]\n",
    "tensor = torch.FloatTensor(data)  # 转换成32位浮点 tensor\n",
    "# correct method\n",
    "print(\n",
    "    '\\n--- matrix multiplication (@) ---',     # [[7, 10], [15, 22]]\n",
    "    '\\n numpy \\n', np.matmul(data, data),     # Or np.dot(data, data)\n",
    "    '\\n torch \\n', torch.mm(tensor, tensor)   \n",
    ")\n",
    "\n",
    "# !!!!  Wrong method !!!!\n",
    "# data = np.array(data)\n",
    "# print(\n",
    "#     '\\nmatrix multiplication (dot)',\n",
    "#     '\\nnumpy: ', data.dot(data),        # numpy works\n",
    "#     '\\ntorch: ', torch.dot(tensor.dot(tensor))     # NOT WORKING! Beware that torch.dot does not broadcast, only works for 1-dimensional tensor\n",
    "# )\n",
    "\n",
    "# matirx dot multiplication\n",
    "print(\n",
    "    '\\n--- matrix  multiplication (*) ---',\n",
    "    '\\n numpy \\n', np.multiply(data, data), \n",
    "    '\\n torch \\n', tensor * tensor\n",
    ")"
   ]
  },
  {
   "cell_type": "markdown",
   "metadata": {},
   "source": [
    "## Tensor vs. Variable"
   ]
  },
  {
   "cell_type": "code",
   "execution_count": 47,
   "metadata": {},
   "outputs": [],
   "source": [
    "import torch\n",
    "from torch.autograd import Variable"
   ]
  },
  {
   "cell_type": "code",
   "execution_count": 50,
   "metadata": {},
   "outputs": [
    {
     "name": "stdout",
     "output_type": "stream",
     "text": [
      "tensor([[1., 2.],\n",
      "        [3., 4.]])\n",
      "tensor([[1., 2.],\n",
      "        [3., 4.]], requires_grad=True)\n"
     ]
    }
   ],
   "source": [
    "tensor = torch.FloatTensor([[1,2],[3,4]])            # build a tensor\n",
    "variable = Variable(tensor, requires_grad=True)      # build a variable, usually for compute gradients\n",
    "\n",
    "print(tensor)       # [torch.FloatTensor of size 2x2]\n",
    "print(variable)     # [torch.FloatTensor of size 2x2]"
   ]
  },
  {
   "cell_type": "code",
   "execution_count": 51,
   "metadata": {},
   "outputs": [
    {
     "name": "stdout",
     "output_type": "stream",
     "text": [
      "tensor(7.5000)\n",
      "tensor(7.5000, grad_fn=<MeanBackward1>)\n"
     ]
    }
   ],
   "source": [
    "t_out = torch.mean(tensor*tensor)       # x^2\n",
    "v_out = torch.mean(variable*variable)   # x^2\n",
    "print(t_out)\n",
    "print(v_out)"
   ]
  },
  {
   "cell_type": "code",
   "execution_count": 52,
   "metadata": {},
   "outputs": [],
   "source": [
    "v_out.backward()    # backpropagation from v_out\n",
    "# v_out = 1/4 * sum(variable*variable) \n",
    "# d(v_out)/d(variable) = 1/4*2*variable = variable/2"
   ]
  },
  {
   "cell_type": "markdown",
   "metadata": {},
   "source": [
    " $V_{out} = \\frac{1}{4}\\cdot \\sum_{i=1}^{4}v_{i}\\cdot v_{i} $\n",
    " \n",
    " $ \\frac{\\partial{V_{out}}}{\\partial{v}} = 1/4\\cdot2\\cdot v = \\frac{v}{2} $"
   ]
  },
  {
   "cell_type": "code",
   "execution_count": 58,
   "metadata": {},
   "outputs": [
    {
     "name": "stdout",
     "output_type": "stream",
     "text": [
      "tensor([[0.5000, 1.0000],\n",
      "        [1.5000, 2.0000]])\n"
     ]
    }
   ],
   "source": [
    "print(variable.grad)"
   ]
  },
  {
   "cell_type": "code",
   "execution_count": 59,
   "metadata": {},
   "outputs": [
    {
     "name": "stdout",
     "output_type": "stream",
     "text": [
      "tensor([[1., 2.],\n",
      "        [3., 4.]], requires_grad=True)\n",
      "tensor([[1., 2.],\n",
      "        [3., 4.]])\n",
      "[[1. 2.]\n",
      " [3. 4.]]\n"
     ]
    }
   ],
   "source": [
    "print(variable) # this is data in variable format\n",
    "print(variable.data) # this is data in tensor format\n",
    "print(variable.data.numpy()) # numpy format"
   ]
  }
 ],
 "metadata": {
  "kernelspec": {
   "display_name": "Python 3",
   "language": "python",
   "name": "python3"
  },
  "language_info": {
   "codemirror_mode": {
    "name": "ipython",
    "version": 3
   },
   "file_extension": ".py",
   "mimetype": "text/x-python",
   "name": "python",
   "nbconvert_exporter": "python",
   "pygments_lexer": "ipython3",
   "version": "3.6.8"
  }
 },
 "nbformat": 4,
 "nbformat_minor": 2
}
